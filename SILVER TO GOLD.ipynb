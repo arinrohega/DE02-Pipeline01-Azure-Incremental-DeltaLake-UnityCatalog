{
 "cells": [
  {
   "cell_type": "code",
   "execution_count": 0,
   "metadata": {
    "application/vnd.databricks.v1+cell": {
     "cellMetadata": {
      "byteLimit": 2048000,
      "rowLimit": 10000
     },
     "inputWidgets": {},
     "nuid": "167508f9-353d-4f0a-a0d0-8d79a2164b34",
     "showTitle": false,
     "tableResultSettingsMap": {},
     "title": ""
    },
    "jupyter": {
     "outputs_hidden": true
    }
   },
   "outputs": [],
   "source": [
    "# -------IMPORTS-------------------------------------------------------------------------------------------------------------------------\n",
    "from delta.tables import DeltaTable\n",
    "from pyspark.sql.functions import col, min as min_\n",
    "\n",
    "# -------READS----------------------------------------------------------------------------------------------------------------------------------\n",
    "silver_afiliacion_usuarios_df = spark.read.table(\"alex_catalog.silver.afiliacion_usuarios\") \n",
    "silver_distribuidores_df = spark.read.table(\"alex_catalog.silver.distribuidores\") \n",
    "silver_distribuidores_perfiles_df = spark.read.table(\"alex_catalog.silver.distribuidores_perfiles\") \n",
    "silver_referidos_origenes_df = spark.read.table(\"alex_catalog.silver.referidos_origenes\") \n",
    "silver_prospectos_df = spark.read.table(\"alex_catalog.silver.prospectos\")\n",
    "silver_regiones_df = spark.read.table(\"alex_catalog.silver.regiones\")\n",
    "silver_zonas_df = spark.read.table(\"alex_catalog.silver.zonas\")\n",
    "silver_sucursales_df = spark.read.table(\"alex_catalog.silver.sucursales\")\n",
    "silver_ventas_df = spark.read.table(\"alex_catalog.silver.ventas\")\n",
    "silver_referidos_asignaciones_df = spark.read.table(\"alex_catalog.silver.referidos_asignaciones\")\n",
    "\n"
   ]
  },
  {
   "cell_type": "code",
   "execution_count": 0,
   "metadata": {
    "application/vnd.databricks.v1+cell": {
     "cellMetadata": {
      "byteLimit": 2048000,
      "rowLimit": 10000
     },
     "inputWidgets": {},
     "nuid": "b7eb358f-df0f-483a-9c2c-7f9cea97cc86",
     "showTitle": false,
     "tableResultSettingsMap": {},
     "title": ""
    }
   },
   "outputs": [],
   "source": [
    "# -------JOINSS---------------------------------------------------------------------------------------------------------------------------\n",
    "\n",
    "gold_df = silver_prospectos_df.join(\n",
    "    silver_sucursales_df.select(\"id_sucursal\", \"descripcionSucursal\", \"id_zona\"),\n",
    "    on=\"id_sucursal\",\n",
    "    how=\"left\"\n",
    ")\n",
    "\n",
    "gold_df = gold_df.join(\n",
    "    silver_zonas_df.select(\"id_zona\", \"descripcionZona\", \"id_region\"),\n",
    "    on=\"id_zona\",\n",
    "    how=\"left\"\n",
    ")\n",
    "\n",
    "gold_df = gold_df.join(\n",
    "    silver_regiones_df.select(\"id_region\", \"descripcionRegion\"),\n",
    "    on=\"id_region\",\n",
    "    how=\"left\"\n",
    ")\n",
    "\n",
    "gold_df = gold_df.join(\n",
    "    silver_referidos_origenes_df.select(\"id_origen\", \"descripcionOrigen\"),\n",
    "    on=\"id_origen\",\n",
    "    how=\"left\"\n",
    ")\n",
    "\n",
    "gold_df = gold_df.join(\n",
    "    silver_distribuidores_perfiles_df.select(\"id_perfil\", \"descripcionPerfil\"),\n",
    "    on=\"id_perfil\",\n",
    "    how=\"left\"\n",
    ")\n",
    "\n",
    "gold_df = gold_df.join(\n",
    "    silver_referidos_asignaciones_df.select(\"id_referido\", \"fechaAsignacion\", \"id_usuarioAfiliacion\"),\n",
    "    on=\"id_referido\",\n",
    "    how=\"left\"\n",
    ")\n",
    "\n",
    "gold_df = gold_df.join(\n",
    "    silver_afiliacion_usuarios_df.select(\"id_usuarioAfiliacion\", \"nombreUsuario\"),\n",
    "    on=\"id_usuarioAfiliacion\",\n",
    "    how=\"left\"\n",
    ")\n",
    "\n",
    "gold_df = gold_df.join(\n",
    "    silver_distribuidores_df.select(\"id_distribuidor\", \"id_prospecto\"),\n",
    "    on=\"id_prospecto\",\n",
    "    how=\"left\"\n",
    ")\n",
    "\n",
    "agg_ventas_df = silver_ventas_df\\\n",
    "    .groupBy(\"id_distribuidor\")\\\n",
    "    .agg(min_(\"fechaVenta\").alias(\"FechaActivacion\"))\n",
    "\n",
    "gold_df = gold_df.join(\n",
    "    agg_ventas_df.select(\"id_distribuidor\", \"FechaActivacion\"),\n",
    "    on=\"id_distribuidor\",\n",
    "    how=\"left\"\n",
    ")\n",
    "\n",
    "renamed_gold_df = gold_df.select(\n",
    "    col(\"id_prospecto\").alias(\"ID\"),\n",
    "    col(\"NombreCompleto\").alias(\"NOMBRE_PROSPECTO\"),\n",
    "    col(\"descripcionOrigen\").alias(\"ORIGEN\"),\n",
    "    col(\"descripcionPerfil\").alias(\"PERFIL\"),\n",
    "    col(\"descripcionSucursal\").alias(\"SUCURSAL\"),\n",
    "    col(\"descripcionZona\").alias(\"ZONA\"),\n",
    "    col(\"descripcionRegion\").alias(\"REGION\"),\n",
    "    col(\"nombreUsuario\").alias(\"PROMOTOR\"),\n",
    "    col(\"fechaAsignacion\").alias(\"FECHA_ASIGNACION\"),\n",
    "    col(\"created_at\").alias(\"FECHA_CAPTURA\"),\n",
    "    col(\"FechaActivacion\").alias(\"FECHA_ACTIVACION\")  \n",
    ")\n"
   ]
  },
  {
   "cell_type": "code",
   "execution_count": 0,
   "metadata": {
    "application/vnd.databricks.v1+cell": {
     "cellMetadata": {
      "byteLimit": 2048000,
      "rowLimit": 10000
     },
     "inputWidgets": {},
     "nuid": "3f631e24-7d5a-40ee-8093-425229d5b475",
     "showTitle": false,
     "tableResultSettingsMap": {},
     "title": ""
    }
   },
   "outputs": [],
   "source": [
    "# --UPSERT FUNCTION----------------------------------------------------------------------------------------------------------------\n",
    "\n",
    "def upsert_function(df, catalog_path, adls_path, merge_condition, partition_columns=None):\n",
    "\n",
    "    if spark.catalog.tableExists(catalog_path) and DeltaTable.isDeltaTable(spark, adls_path):\n",
    "\n",
    "        delta_table = DeltaTable.forName(spark, catalog_path)\n",
    "        delta_table.alias(\"target\") \\\n",
    "            .merge(df.alias(\"source\"), merge_condition) \\\n",
    "            .whenMatchedUpdateAll() \\\n",
    "            .whenNotMatchedInsertAll() \\\n",
    "            .execute()\n",
    "    else:\n",
    "\n",
    "        df.write.format(\"delta\").mode(\"overwrite\")\\\n",
    "            .option(\"path\", adls_path)\\\n",
    "            .saveAsTable(catalog_path)"
   ]
  },
  {
   "cell_type": "code",
   "execution_count": 0,
   "metadata": {
    "application/vnd.databricks.v1+cell": {
     "cellMetadata": {
      "byteLimit": 2048000,
      "rowLimit": 10000
     },
     "inputWidgets": {},
     "nuid": "badf07fd-9b12-434a-81d3-c89e2aa0c767",
     "showTitle": false,
     "tableResultSettingsMap": {},
     "title": ""
    }
   },
   "outputs": [],
   "source": [
    "# -------WRITE ---------------------------------------------------------------------------------------\n",
    "upsert_function(\n",
    "    renamed_gold_df,\n",
    "    \"alex_catalog.gold.Prospectos_Activaciones\",\n",
    "    \"abfss://goldcontainer@rohegastorage.dfs.core.windows.net/pipeline01/Prospectos_Activaciones\",\n",
    "    \"target.ID = source.ID\"\n",
    ")"
   ]
  }
 ],
 "metadata": {
  "application/vnd.databricks.v1+notebook": {
   "computePreferences": null,
   "dashboards": [],
   "environmentMetadata": {
    "base_environment": "",
    "environment_version": "3"
   },
   "inputWidgetPreferences": null,
   "language": "python",
   "notebookMetadata": {
    "pythonIndentUnit": 4
   },
   "notebookName": "SILVER TO GOLD",
   "widgets": {}
  },
  "language_info": {
   "name": "python"
  }
 },
 "nbformat": 4,
 "nbformat_minor": 0
}