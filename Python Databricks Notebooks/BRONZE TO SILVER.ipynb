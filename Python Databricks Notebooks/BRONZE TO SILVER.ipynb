{
 "cells": [
  {
   "cell_type": "code",
   "execution_count": 0,
   "metadata": {
    "application/vnd.databricks.v1+cell": {
     "cellMetadata": {
      "byteLimit": 2048000,
      "rowLimit": 10000
     },
     "inputWidgets": {},
     "nuid": "22080ba6-51fa-42c8-a99a-b8a341fabe16",
     "showTitle": false,
     "tableResultSettingsMap": {},
     "title": ""
    }
   },
   "outputs": [],
   "source": [
    "# -------IMPORTS-------------------------------------------------------------------------------------------------------------------------\n",
    "from pyspark.sql.functions import col, trim, regexp_replace, concat_ws, when\n",
    "from delta.tables import DeltaTable"
   ]
  },
  {
   "cell_type": "code",
   "execution_count": 0,
   "metadata": {
    "application/vnd.databricks.v1+cell": {
     "cellMetadata": {
      "byteLimit": 2048000,
      "rowLimit": 10000
     },
     "inputWidgets": {},
     "nuid": "7ce1b3c8-3ff0-4a6a-9fa0-8ab177f39c48",
     "showTitle": false,
     "tableResultSettingsMap": {},
     "title": ""
    }
   },
   "outputs": [],
   "source": [
    "#---UPSERT FUNCTION------------------\n",
    "\n",
    "def upsert_function(df, catalog_path, adls_path, merge_condition, partition_columns=None):\n",
    "   if spark.catalog.tableExists(catalog_path) and DeltaTable.isDeltaTable(spark, adls_path):\n",
    "       delta_table = DeltaTable.forName(spark, catalog_path)\n",
    "       delta_table.alias(\"target\") \\\n",
    "           .merge(df.alias(\"source\"), merge_condition) \\\n",
    "           .whenMatchedUpdateAll() \\\n",
    "           .whenNotMatchedInsertAll() \\\n",
    "           .execute()\n",
    "   else:\n",
    "       df.write.format(\"delta\").mode(\"overwrite\")\\\n",
    "           .option(\"path\", adls_path)\\\n",
    "           .saveAsTable(catalog_path)\n",
    "\n",
    "#-----WRITE FUNCTION------------------\n",
    "\n",
    "def write_function(catalog_path, adls_path, merge_condition):\n",
    "    def validate_function(batch_df, batch_id):\n",
    "        if batch_df.isEmpty():\n",
    "            pass\n",
    "        else:\n",
    "            upsert_function(\n",
    "                batch_df,\n",
    "                catalog_path,\n",
    "                adls_path,\n",
    "                merge_condition\n",
    "            )\n",
    "    return validate_function"
   ]
  },
  {
   "cell_type": "code",
   "execution_count": 0,
   "metadata": {
    "application/vnd.databricks.v1+cell": {
     "cellMetadata": {
      "byteLimit": 2048000,
      "rowLimit": 10000
     },
     "inputWidgets": {},
     "nuid": "30476b8b-36db-4928-a2e4-c6689c63c48b",
     "showTitle": false,
     "tableResultSettingsMap": {},
     "title": ""
    }
   },
   "outputs": [],
   "source": [
    "#------------TRANSFORMATIONS--------------\n",
    "\n",
    "def transform_afiliacion_usuarios(df):\n",
    "    return df.select(\"id_usuarioAfiliacion\", \"nombreUsuario\")\n",
    "\n",
    "def transform_sucursales(df):\n",
    "    return (\n",
    "        df.withColumn(\"estatus\", regexp_replace(col(\"estatus\"), r\"\\r|\\n\", \"\"))\n",
    "          .filter(col(\"estatus\") == \"ACTIVO\")\n",
    "          .select(\"id_sucursal\", \"descripcionSucursal\", \"id_zona\", \"id_region\")\n",
    "    )\n",
    "\n",
    "def transform_distribuidores(df):\n",
    "    return (\n",
    "        df.filter(regexp_replace(col(\"estatus\"), r\"\\r|\\n\", \"\") == \"activo\")\n",
    "          .select(\"id_distribuidor\", \"id_prospecto\", \"estatus\")\n",
    "    )\n",
    "\n",
    "def transform_prospectos(df):\n",
    "    return (\n",
    "        df.filter(regexp_replace(col(\"estatus\"), r\"\\r|\\n\", \"\") == \"ACTIVO\")\n",
    "          .filter(col(\"updated_at\") > \"2024-01-01 00:00:00\")\n",
    "          .select(\"id_prospecto\",\"id_referido\",\"created_at\",\"id_origen\",\"id_perfil\",\"primerNombre\",\"segundoNombre\",\"primerApellido\",\"segundoApellido\",\"id_sucursal\")\n",
    "          .fillna({\"segundoNombre\": \"\"})\n",
    "          .withColumn(\"NombreCompleto\",concat_ws(\" \",col(\"primerNombre\"),when(col(\"segundoNombre\") != \"\", col(\"segundoNombre\")),col(\"primerApellido\"),col(\"segundoApellido\")))\n",
    "    )\n",
    "\n",
    "def transform_distribuidores_perfiles(df):\n",
    "    return df.filter(col(\"estatus\") == \"ACTIVO\").select(\"id_perfil\", \"descripcionPerfil\")\n",
    "\n",
    "def transform_referidos_origenes(df):\n",
    "    return df.filter(col(\"estatus\") == \"ACTIVO\").select(\"id_origen\", \"descripcionOrigen\")\n",
    "\n",
    "def transform_regiones(df):\n",
    "    return df.select(\"id_region\", \"descripcionRegion\")\n",
    "\n",
    "def transform_zonas(df):\n",
    "    return (\n",
    "        df.filter(regexp_replace(col(\"estatus\"), r\"\\r|\\n\", \"\") == \"ACTIVO\")\n",
    "          .select(\"id_zona\", \"descripcionZona\", \"id_region\")\n",
    "    )\n",
    "\n",
    "def transform_ventas(df):\n",
    "    return (\n",
    "        df.filter(col(\"fechaVenta\") > \"2024-01-01 00:00:00\")\n",
    "          .select(\"id_venta\", \"fechaVenta\", \"id_distribuidor\")\n",
    "    )\n",
    "\n",
    "def transform_referidos_asignaciones(df):\n",
    "    return (\n",
    "        df.filter(col(\"fechaAsignacion\") > \"2024-01-01 00:00:00\")\n",
    "          .select(\"id_asignacion\", \"fechaAsignacion\", \"id_referido\", \"id_usuarioAfiliacion\")\n",
    "    )"
   ]
  },
  {
   "cell_type": "code",
   "execution_count": 0,
   "metadata": {
    "application/vnd.databricks.v1+cell": {
     "cellMetadata": {
      "byteLimit": 2048000,
      "rowLimit": 10000
     },
     "inputWidgets": {},
     "nuid": "c8df2855-9f2b-4f31-9472-59901696eb46",
     "showTitle": false,
     "tableResultSettingsMap": {},
     "title": ""
    }
   },
   "outputs": [],
   "source": [
    "#---CONSTANTS AND PARAMETERS-----\n",
    "\n",
    "BRONZE_PATH = \"abfss://bronzecontainer@rohegastorage.dfs.core.windows.net/pipeline01/\"\n",
    "SILVER_PATH = \"abfss://silvercontainer@rohegastorage.dfs.core.windows.net/pipeline01/\"\n",
    "CHECKPOINTS_PATH = \"abfss://silvercontainer@rohegastorage.dfs.core.windows.net/checkpoints/\"\n",
    "\n",
    "table_parameters = [\n",
    "    {\n",
    "        \"name\": \"afiliacion_usuarios\",\n",
    "        \"merge_condition\": \"target.id_usuarioAfiliacion = source.id_usuarioAfiliacion\",\n",
    "        \"transformation\": transform_afiliacion_usuarios,\n",
    "    },\n",
    "    {\n",
    "        \"name\": \"distribuidores\",\n",
    "        \"merge_condition\": \"target.id_distribuidor = source.id_distribuidor\",\n",
    "        \"transformation\": transform_distribuidores,\n",
    "    },\n",
    "    {\n",
    "        \"name\": \"distribuidores_perfiles\",\n",
    "        \"merge_condition\": \"target.id_perfil = source.id_perfil\",\n",
    "        \"transformation\": transform_distribuidores_perfiles,\n",
    "    },\n",
    "    {\n",
    "        \"name\": \"prospectos\",\n",
    "        \"merge_condition\": \"target.id_prospecto = source.id_prospecto\",\n",
    "        \"transformation\": transform_prospectos,\n",
    "    },\n",
    "    {\n",
    "        \"name\": \"referidos_origenes\",\n",
    "        \"merge_condition\": \"target.id_origen = source.id_origen\",\n",
    "        \"transformation\": transform_referidos_origenes,\n",
    "    },\n",
    "    {\n",
    "        \"name\": \"regiones\",\n",
    "        \"merge_condition\": \"target.id_region = source.id_region\",\n",
    "        \"transformation\": transform_regiones,\n",
    "    },\n",
    "    {\n",
    "        \"name\": \"zonas\",\n",
    "        \"merge_condition\": \"target.id_zona = source.id_zona\",\n",
    "        \"transformation\": transform_zonas,\n",
    "    },\n",
    "    {\n",
    "        \"name\": \"sucursales\",\n",
    "        \"merge_condition\": \"target.id_sucursal = source.id_sucursal\",\n",
    "        \"transformation\": transform_sucursales,\n",
    "    },\n",
    "    {\n",
    "        \"name\": \"ventas\",\n",
    "        \"merge_condition\": \"target.id_venta = source.id_venta\",\n",
    "        \"transformation\": transform_ventas,\n",
    "    },\n",
    "    {\n",
    "        \"name\": \"referidos_asignaciones\",\n",
    "        \"merge_condition\": \"target.id_asignacion = source.id_asignacion\",\n",
    "        \"transformation\": transform_referidos_asignaciones,\n",
    "    },\n",
    "]\n",
    "\n",
    "#---READSTREAM AND UPSERT FOR EACH TABLE---------\n",
    "\n",
    "for parameter in table_parameters:\n",
    "    #df = spark.readStream.format(\"delta\").load(f\"{BRONZE_PATH}{parameter['name']}\")\n",
    "    df = spark.readStream.table(f\"alex_catalog.bronze.{parameter['name']}\")\n",
    "\n",
    "    transformed_df = parameter[\"transformation\"](df)\n",
    "\n",
    "    write_table = write_function(\n",
    "        f\"alex_catalog.silver.{parameter['name']}\",\n",
    "        f\"{SILVER_PATH}{parameter['name']}\", \n",
    "        parameter[\"merge_condition\"]\n",
    "    )\n",
    "    \n",
    "    transformed_df.writeStream.format(\"delta\")\\\n",
    "        .foreachBatch(write_table)\\\n",
    "        .option(\"checkpointLocation\", f\"{CHECKPOINTS_PATH}{parameter['name']}_checkpoint\")\\\n",
    "        .trigger(once=True)\\\n",
    "        .start()\\\n",
    "        .awaitTermination()"
   ]
  }
 ],
 "metadata": {
  "application/vnd.databricks.v1+notebook": {
   "computePreferences": {
    "hardware": {
     "accelerator": null,
     "gpuPoolId": null,
     "memory": null
    }
   },
   "dashboards": [],
   "environmentMetadata": {
    "base_environment": "",
    "environment_version": "3"
   },
   "inputWidgetPreferences": null,
   "language": "python",
   "notebookMetadata": {
    "mostRecentlyExecutedCommandWithImplicitDF": {
     "commandId": 8225623023465382,
     "dataframes": [
      "_sqldf"
     ]
    },
    "pythonIndentUnit": 4
   },
   "notebookName": "LOOP BRONZE TO SILVER",
   "widgets": {}
  },
  "language_info": {
   "name": "python"
  }
 },
 "nbformat": 4,
 "nbformat_minor": 0
}