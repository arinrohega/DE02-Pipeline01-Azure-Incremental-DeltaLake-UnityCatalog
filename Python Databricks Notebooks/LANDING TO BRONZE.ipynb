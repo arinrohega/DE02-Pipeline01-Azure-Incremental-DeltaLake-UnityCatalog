{
 "cells": [
  {
   "cell_type": "code",
   "execution_count": 0,
   "metadata": {
    "application/vnd.databricks.v1+cell": {
     "cellMetadata": {
      "byteLimit": 2048000,
      "rowLimit": 10000
     },
     "inputWidgets": {},
     "nuid": "22080ba6-51fa-42c8-a99a-b8a341fabe16",
     "showTitle": false,
     "tableResultSettingsMap": {},
     "title": ""
    }
   },
   "outputs": [],
   "source": [
    "#-------IMPORTS-----------------------\n",
    "from delta.tables import DeltaTable"
   ]
  },
  {
   "cell_type": "code",
   "execution_count": 0,
   "metadata": {
    "application/vnd.databricks.v1+cell": {
     "cellMetadata": {
      "byteLimit": 2048000,
      "rowLimit": 10000
     },
     "inputWidgets": {},
     "nuid": "7ce1b3c8-3ff0-4a6a-9fa0-8ab177f39c48",
     "showTitle": false,
     "tableResultSettingsMap": {},
     "title": ""
    }
   },
   "outputs": [],
   "source": [
    "#---UPSERT FUNCTION------------------\n",
    "\n",
    "def upsert_function(df, catalog_path, adls_path, merge_condition, partition_columns=None):\n",
    "   if spark.catalog.tableExists(catalog_path) and DeltaTable.isDeltaTable(spark, adls_path):\n",
    "       delta_table = DeltaTable.forName(spark, catalog_path)\n",
    "       delta_table.alias(\"target\") \\\n",
    "           .merge(df.alias(\"source\"), merge_condition) \\\n",
    "           .whenMatchedUpdateAll() \\\n",
    "           .whenNotMatchedInsertAll() \\\n",
    "           .execute()\n",
    "   else:\n",
    "       df.write.format(\"delta\").mode(\"overwrite\")\\\n",
    "           .option(\"path\", adls_path)\\\n",
    "           .saveAsTable(catalog_path)\n",
    "\n",
    "#-----WRITE FUNCTION------------------\n",
    "\n",
    "def write_function(catalog_path, adls_path, merge_condition):\n",
    "    def validate_function(batch_df, batch_id):\n",
    "        if batch_df.isEmpty():\n",
    "            pass\n",
    "        else:\n",
    "            upsert_function(\n",
    "                batch_df,\n",
    "                catalog_path,\n",
    "                adls_path,\n",
    "                merge_condition\n",
    "            )\n",
    "    return validate_function"
   ]
  },
  {
   "cell_type": "code",
   "execution_count": 0,
   "metadata": {
    "application/vnd.databricks.v1+cell": {
     "cellMetadata": {
      "byteLimit": 2048000,
      "rowLimit": 10000
     },
     "inputWidgets": {},
     "nuid": "c8df2855-9f2b-4f31-9472-59901696eb46",
     "showTitle": false,
     "tableResultSettingsMap": {},
     "title": ""
    }
   },
   "outputs": [],
   "source": [
    "#---CONSTANTS AND PARAMETERS-----\n",
    "\n",
    "LANDING_PATH = \"abfss://landingcontainer@rohegastorage.dfs.core.windows.net/pipeline01/\"\n",
    "CHECKPOINTS_PATH = \"abfss://bronzecontainer@rohegastorage.dfs.core.windows.net/checkpoints/\"\n",
    "BRONZE_PATH = \"abfss://bronzecontainer@rohegastorage.dfs.core.windows.net/pipeline01/\"\n",
    "\n",
    "table_parameters = [\n",
    "    {\n",
    "        \"name\": \"afiliacion_usuarios\",\n",
    "        \"merge_condition\": \"target.id_usuarioAfiliacion = source.id_usuarioAfiliacion\"\n",
    "    },\n",
    "    {\n",
    "        \"name\": \"distribuidores\",\n",
    "        \"merge_condition\": \"target.id_distribuidor = source.id_distribuidor\"\n",
    "    },\n",
    "    {\n",
    "        \"name\": \"distribuidores_perfiles\",\n",
    "        \"merge_condition\": \"target.id_perfil = source.id_perfil\"\n",
    "    },\n",
    "    {\n",
    "        \"name\": \"prospectos\",\n",
    "        \"merge_condition\": \"target.id_prospecto = source.id_prospecto\"\n",
    "    },\n",
    "    {\n",
    "        \"name\": \"referidos_origenes\",\n",
    "        \"merge_condition\": \"target.id_origen = source.id_origen\"\n",
    "    },\n",
    "    {\n",
    "        \"name\": \"regiones\",\n",
    "        \"merge_condition\": \"target.id_region = source.id_region\"\n",
    "    },\n",
    "    {\n",
    "        \"name\": \"zonas\",\n",
    "        \"merge_condition\": \"target.id_zona = source.id_zona\"\n",
    "    },\n",
    "    {\n",
    "        \"name\": \"sucursales\",\n",
    "        \"merge_condition\": \"target.id_sucursal = source.id_sucursal\"\n",
    "    },\n",
    "    {\n",
    "        \"name\": \"ventas\",\n",
    "        \"merge_condition\": \"target.id_venta = source.id_venta\"\n",
    "    },\n",
    "    {\n",
    "        \"name\": \"referidos_asignaciones\",\n",
    "        \"merge_condition\": \"target.id_asignacion = source.id_asignacion\"\n",
    "    }\n",
    "]\n",
    "\n",
    "#---READSTREAM AND UPSERT FOR EACH TABLE---------\n",
    "\n",
    "for parameter in table_parameters:\n",
    "    df = spark.readStream.format(\"cloudFiles\")\\\n",
    "        .option(\"cloudFiles.format\", \"parquet\")\\\n",
    "        .option(\"cloudFiles.schemaLocation\", f\"{CHECKPOINTS_PATH}{parameter['name']}_schema\")\\\n",
    "        .load(f\"{LANDING_PATH}{parameter['name']}\")\n",
    " \n",
    "    write_table = write_function(\n",
    "        f\"alex_catalog.bronze.{parameter['name']}\",\n",
    "        f\"{BRONZE_PATH}{parameter['name']}\", \n",
    "        parameter[\"merge_condition\"]\n",
    "    )\n",
    "    \n",
    "    df.writeStream.format(\"delta\")\\\n",
    "        .foreachBatch(write_table)\\\n",
    "        .option(\"checkpointLocation\", f\"{CHECKPOINTS_PATH}{parameter['name']}_checkpoint\")\\\n",
    "        .trigger(once=True)\\\n",
    "        .start()\\\n",
    "        .awaitTermination()"
   ]
  }
 ],
 "metadata": {
  "application/vnd.databricks.v1+notebook": {
   "computePreferences": {
    "hardware": {
     "accelerator": null,
     "gpuPoolId": null,
     "memory": null
    }
   },
   "dashboards": [],
   "environmentMetadata": {
    "base_environment": "",
    "environment_version": "3"
   },
   "inputWidgetPreferences": null,
   "language": "python",
   "notebookMetadata": {
    "mostRecentlyExecutedCommandWithImplicitDF": {
     "commandId": 8225623023465382,
     "dataframes": [
      "_sqldf"
     ]
    },
    "pythonIndentUnit": 4
   },
   "notebookName": "LOOP LANDING TO BRONZE",
   "widgets": {}
  },
  "language_info": {
   "name": "python"
  }
 },
 "nbformat": 4,
 "nbformat_minor": 0
}